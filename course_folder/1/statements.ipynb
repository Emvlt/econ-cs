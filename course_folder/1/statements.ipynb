{
 "cells": [
  {
   "cell_type": "markdown",
   "metadata": {},
   "source": [
    "# Python has built in <font color='purple'> Keywords </font>."
   ]
  },
  {
   "cell_type": "markdown",
   "metadata": {},
   "source": [
    "## Logic Statements\n",
    "<!> Python uses indentation to refer to blocks of codes, where Stata uses curly braces for instance. <!>"
   ]
  },
  {
   "cell_type": "code",
   "execution_count": 1,
   "metadata": {},
   "outputs": [
    {
     "name": "stdout",
     "output_type": "stream",
     "text": [
      "The variable c has a positive value\n"
     ]
    }
   ],
   "source": [
    "## Logic\n",
    "a = 10\n",
    "b = 0.736\n",
    "\n",
    "if a < 0:\n",
    "    c = 'negative'\n",
    "elif a == 0:\n",
    "    c = 'zero'\n",
    "else:\n",
    "    c = 'positive'\n",
    "print(f'The variable c has a {c} value')"
   ]
  },
  {
   "cell_type": "markdown",
   "metadata": {},
   "source": [
    "## Iteration statements"
   ]
  },
  {
   "cell_type": "markdown",
   "metadata": {},
   "source": [
    "The <font color='purple'> for </font> statement:\n",
    "- allows to loop over an iterable object\n",
    "- it can be used with the <font color='purple'> in </font> statement "
   ]
  },
  {
   "cell_type": "markdown",
   "metadata": {},
   "source": [
    "<font color='purple'> for </font> element <font color='purple'> in </font> iterable:\n",
    "- indented block "
   ]
  },
  {
   "cell_type": "markdown",
   "metadata": {},
   "source": [
    "The <font color='purple'> while </font> statement:\n",
    "- allows to loop over an iterable object\n",
    "- its execution is conditionned on a boolean "
   ]
  },
  {
   "cell_type": "code",
   "execution_count": 2,
   "metadata": {},
   "outputs": [],
   "source": [
    "counter = 0\n",
    "while counter < 10:\n",
    "    print(counter)\n",
    "    counter +=1 # equivalent to counter = counter + 1"
   ]
  },
  {
   "cell_type": "markdown",
   "metadata": {},
   "source": [
    "# <!> Make sure that your while statements have stop conditions <!>"
   ]
  },
  {
   "cell_type": "markdown",
   "metadata": {},
   "source": [
    "## Libraries import Keyword\n",
    "The <font color='purple'> import </font> statement allows to import objects and functions from another .py file"
   ]
  },
  {
   "cell_type": "code",
   "execution_count": 3,
   "metadata": {},
   "outputs": [
    {
     "name": "stdout",
     "output_type": "stream",
     "text": [
      "3.141592653589793\n"
     ]
    }
   ],
   "source": [
    "from math import pi as PI\n",
    "\n",
    "print(PI)"
   ]
  },
  {
   "cell_type": "markdown",
   "metadata": {},
   "source": [
    "<!> For readability purposes, constants are written as CAPITAL only, to distinguish them easily from variables <!>"
   ]
  },
  {
   "cell_type": "code",
   "execution_count": null,
   "metadata": {},
   "outputs": [],
   "source": []
  }
 ],
 "metadata": {
  "kernelspec": {
   "display_name": "Python 3 (ipykernel)",
   "language": "python",
   "name": "python3"
  },
  "language_info": {
   "codemirror_mode": {
    "name": "ipython",
    "version": 3
   },
   "file_extension": ".py",
   "mimetype": "text/x-python",
   "name": "python",
   "nbconvert_exporter": "python",
   "pygments_lexer": "ipython3",
   "version": "3.8.8"
  },
  "vscode": {
   "interpreter": {
    "hash": "15e944eaa63e7a905e87581ef922e0b7b3b6e50e8beb9e6b7b953a48ac198a92"
   }
  }
 },
 "nbformat": 4,
 "nbformat_minor": 2
}
