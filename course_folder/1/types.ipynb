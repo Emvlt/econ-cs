{
 "cells": [
  {
   "cell_type": "markdown",
   "metadata": {},
   "source": [
    "### String Type "
   ]
  },
  {
   "cell_type": "code",
   "execution_count": null,
   "metadata": {},
   "outputs": [],
   "source": [
    "# Regular string\n",
    "string_0 = 'I am a string'\n",
    "# f-strings: useful to display variable values\n",
    "string_1 = f'Me too, and i can display {string_0}'\n",
    "\n",
    "print(string_0)\n",
    "print(string_1)"
   ]
  },
  {
   "cell_type": "markdown",
   "metadata": {},
   "source": [
    "### Numeric types"
   ]
  },
  {
   "cell_type": "code",
   "execution_count": null,
   "metadata": {},
   "outputs": [],
   "source": [
    "# Integer type\n",
    "a = 10\n",
    "# Float type \n",
    "b = 0.736\n",
    "# Complex type\n",
    "c = complex(a,b)"
   ]
  },
  {
   "cell_type": "markdown",
   "metadata": {},
   "source": [
    "### Arithmetic operations"
   ]
  },
  {
   "cell_type": "code",
   "execution_count": null,
   "metadata": {},
   "outputs": [],
   "source": [
    "print(f'{a} + 5 is equal to : {a+5}')\n",
    "print(f'{a} - 5 is equal to : {a-5}')\n",
    "print(f'{a} / 5 is equal to : {a/5}') ## The result of a division between two integers is no longer an integers\n",
    "print(f'{a} * 5 is equal to : {a*5}')\n",
    "\n",
    "# euclidian integer division operators\n",
    "print(f'The floor division operation between {a} and 7 is {a//7}')\n",
    "print(f'The modulo between {a} and 7 is {a%7}')"
   ]
  },
  {
   "cell_type": "markdown",
   "metadata": {},
   "source": [
    "### Logic"
   ]
  },
  {
   "cell_type": "code",
   "execution_count": null,
   "metadata": {},
   "outputs": [],
   "source": [
    "## Logic\n",
    "#Python has built-in boolean expressions\n",
    "print(f'The assertion {a}<{b} is {a<b}')\n",
    "print(f'The assertion 0<{b}<{a} is {0<b<a}')\n",
    "\n",
    "if a < 0:\n",
    "    c = 'negative'\n",
    "elif a == 0:\n",
    "    c = 'zero'\n",
    "else:\n",
    "    c = 'positive'\n",
    "print(f'The variable c has a {c} value')\n"
   ]
  },
  {
   "cell_type": "markdown",
   "metadata": {},
   "source": [
    "### Lists\n",
    "# <!> Python uses 0 ordering <!>"
   ]
  },
  {
   "cell_type": "code",
   "execution_count": null,
   "metadata": {},
   "outputs": [],
   "source": [
    "# A list is an iterable type of object\n",
    "my_list = ['a',1,c,]\n",
    "print(my_list[0])\n",
    "print(my_list[1])\n",
    "print(my_list[2])\n",
    "\n",
    "# a list has a length\n",
    "print(len(my_list))"
   ]
  },
  {
   "cell_type": "markdown",
   "metadata": {},
   "source": [
    "One can iterate on list indices, elements, or both"
   ]
  },
  {
   "cell_type": "code",
   "execution_count": null,
   "metadata": {},
   "outputs": [],
   "source": [
    "\n",
    "for index in range(len(my_list)):\n",
    "    print(f'The list has the element {my_list[index]} at index {index}')"
   ]
  },
  {
   "cell_type": "code",
   "execution_count": null,
   "metadata": {},
   "outputs": [],
   "source": [
    "for index, value in enumerate(my_list):\n",
    "    print(f'The list has the element {value} at index {index}')"
   ]
  },
  {
   "cell_type": "markdown",
   "metadata": {},
   "source": [
    "### Dictionnaries"
   ]
  },
  {
   "cell_type": "code",
   "execution_count": null,
   "metadata": {},
   "outputs": [],
   "source": [
    "my_dictionnary = {'key_0':0, 'key_1':'a', 'key_3':my_list}\n",
    "\n",
    "print(my_dictionnary['key_0'])\n",
    "print(my_dictionnary['key_1'])\n",
    "print(my_dictionnary['key_3'])"
   ]
  },
  {
   "cell_type": "markdown",
   "metadata": {},
   "source": [
    "## One can iterate on dictionnary keys, values, or both"
   ]
  },
  {
   "cell_type": "code",
   "execution_count": null,
   "metadata": {},
   "outputs": [],
   "source": [
    "for key in my_dictionnary.keys():\n",
    "    print(key)"
   ]
  },
  {
   "cell_type": "code",
   "execution_count": null,
   "metadata": {},
   "outputs": [],
   "source": [
    "for value in my_dictionnary.values():\n",
    "    print(value)"
   ]
  },
  {
   "cell_type": "code",
   "execution_count": null,
   "metadata": {},
   "outputs": [],
   "source": [
    "for key, value in my_dictionnary.items():\n",
    "    print(key, value)"
   ]
  },
  {
   "cell_type": "markdown",
   "metadata": {},
   "source": [
    "# <!> Dictionnaries are not ordered <!>\n",
    "## ---> The command my_dictionnary[0] will return an error, as 0 is not a registered key"
   ]
  }
 ],
 "metadata": {
  "kernelspec": {
   "display_name": "Python 3 (ipykernel)",
   "language": "python",
   "name": "python3"
  },
  "language_info": {
   "codemirror_mode": {
    "name": "ipython",
    "version": 3
   },
   "file_extension": ".py",
   "mimetype": "text/x-python",
   "name": "python",
   "nbconvert_exporter": "python",
   "pygments_lexer": "ipython3",
   "version": "3.8.8"
  },
  "vscode": {
   "interpreter": {
    "hash": "15e944eaa63e7a905e87581ef922e0b7b3b6e50e8beb9e6b7b953a48ac198a92"
   }
  }
 },
 "nbformat": 4,
 "nbformat_minor": 2
}
