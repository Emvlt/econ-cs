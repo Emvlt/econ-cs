{
 "cells": [
  {
   "cell_type": "markdown",
   "metadata": {},
   "source": [
    "### String Type "
   ]
  },
  {
   "cell_type": "code",
   "execution_count": 1,
   "metadata": {},
   "outputs": [
    {
     "name": "stdout",
     "output_type": "stream",
     "text": [
      "I am a string\n",
      "Me too, and i can display I am a string\n"
     ]
    }
   ],
   "source": [
    "# Regular string\n",
    "string_0 = 'I am a string'\n",
    "# f-strings: useful to display variable values\n",
    "string_1 = f'Me too, and i can display {string_0}'\n",
    "\n",
    "print(string_0)\n",
    "print(string_1)"
   ]
  },
  {
   "cell_type": "markdown",
   "metadata": {},
   "source": [
    "### The \"=\" operator allocates the value on its right-hand side to the variable name on its left-hand side"
   ]
  },
  {
   "cell_type": "markdown",
   "metadata": {},
   "source": [
    "### Numeric types"
   ]
  },
  {
   "cell_type": "code",
   "execution_count": 3,
   "metadata": {},
   "outputs": [],
   "source": [
    "# Integer type\n",
    "a = 10\n",
    "# Float type \n",
    "b = 0.736\n",
    "# Complex type\n",
    "c = complex(a,b)"
   ]
  },
  {
   "cell_type": "code",
   "execution_count": 4,
   "metadata": {},
   "outputs": [
    {
     "name": "stdout",
     "output_type": "stream",
     "text": [
      "(10+0.736j)\n"
     ]
    }
   ],
   "source": [
    "print(c)"
   ]
  },
  {
   "cell_type": "markdown",
   "metadata": {},
   "source": [
    "### Arithmetic operations"
   ]
  },
  {
   "cell_type": "code",
   "execution_count": 5,
   "metadata": {},
   "outputs": [
    {
     "name": "stdout",
     "output_type": "stream",
     "text": [
      "10 + 5 is equal to : 15\n",
      "10 - 5 is equal to : 5\n",
      "10 / 5 is equal to : 2.0\n",
      "10 * 5 is equal to : 50\n"
     ]
    }
   ],
   "source": [
    "print(f'{a} + 5 is equal to : {a+5}')\n",
    "print(f'{a} - 5 is equal to : {a-5}')\n",
    "print(f'{a} / 5 is equal to : {a/5}') ## The result of a division between two integers is no longer an integers\n",
    "print(f'{a} * 5 is equal to : {a*5}')"
   ]
  },
  {
   "cell_type": "code",
   "execution_count": 6,
   "metadata": {},
   "outputs": [
    {
     "name": "stdout",
     "output_type": "stream",
     "text": [
      "The floor division operation between 10 and 7 is 1\n",
      "The modulo between 10 and 7 is 3\n"
     ]
    }
   ],
   "source": [
    "# euclidian integer division operators\n",
    "print(f'The floor division operation between {a} and 7 is {a//7}')\n",
    "print(f'The modulo between {a} and 7 is {a%7}')"
   ]
  },
  {
   "cell_type": "markdown",
   "metadata": {},
   "source": [
    "### Logic"
   ]
  },
  {
   "cell_type": "code",
   "execution_count": 7,
   "metadata": {},
   "outputs": [
    {
     "name": "stdout",
     "output_type": "stream",
     "text": [
      "The assertion 10<0.736 is False\n",
      "The assertion 0<0.736<10 is True\n"
     ]
    }
   ],
   "source": [
    "## Logic\n",
    "#Python has built-in boolean expressions\n",
    "print(f'The assertion {a}<{b} is {a<b}')\n",
    "print(f'The assertion 0<{b}<{a} is {0<b<a}')"
   ]
  },
  {
   "cell_type": "code",
   "execution_count": 8,
   "metadata": {},
   "outputs": [],
   "source": [
    "true_boolean  = True\n",
    "false_boolean = False"
   ]
  },
  {
   "cell_type": "code",
   "execution_count": 9,
   "metadata": {},
   "outputs": [
    {
     "name": "stdout",
     "output_type": "stream",
     "text": [
      "The variable c has a positive value\n"
     ]
    }
   ],
   "source": [
    "if a < 0:\n",
    "    c = 'negative'\n",
    "elif a == 0:\n",
    "    c = 'zero'\n",
    "else:\n",
    "    c = 'positive'\n",
    "print(f'The variable c has a {c} value')"
   ]
  },
  {
   "cell_type": "markdown",
   "metadata": {},
   "source": [
    "### Lists\n",
    "# <!> Python uses 0 ordering <!>"
   ]
  },
  {
   "cell_type": "code",
   "execution_count": 10,
   "metadata": {},
   "outputs": [
    {
     "name": "stdout",
     "output_type": "stream",
     "text": [
      "a\n",
      "1\n",
      "positive\n"
     ]
    }
   ],
   "source": [
    "# A list is an iterable type of object\n",
    "my_list = ['a',1,c,]\n",
    "print(my_list[0])\n",
    "print(my_list[1])\n",
    "print(my_list[2])"
   ]
  },
  {
   "cell_type": "code",
   "execution_count": 11,
   "metadata": {},
   "outputs": [
    {
     "name": "stdout",
     "output_type": "stream",
     "text": [
      "3\n",
      "3\n"
     ]
    }
   ],
   "source": [
    "# a list has a length\n",
    "print(len(my_list))\n",
    "length = len(my_list)\n",
    "print(length)"
   ]
  },
  {
   "cell_type": "markdown",
   "metadata": {},
   "source": [
    "One can iterate on list indices, elements, or both"
   ]
  },
  {
   "cell_type": "code",
   "execution_count": 12,
   "metadata": {},
   "outputs": [
    {
     "name": "stdout",
     "output_type": "stream",
     "text": [
      "The list has the element a at index 0\n",
      "The list has the element 1 at index 1\n",
      "The list has the element positive at index 2\n"
     ]
    }
   ],
   "source": [
    "for index in range(length):\n",
    "    print(f'The list has the element {my_list[index]} at index {index}')"
   ]
  },
  {
   "cell_type": "code",
   "execution_count": 13,
   "metadata": {},
   "outputs": [
    {
     "name": "stdout",
     "output_type": "stream",
     "text": [
      "The list has the element a at index 0\n",
      "The list has the element 1 at index 1\n",
      "The list has the element positive at index 2\n"
     ]
    }
   ],
   "source": [
    "for index, value in enumerate(my_list):\n",
    "    print(f'The list has the element {value} at index {index}')"
   ]
  },
  {
   "cell_type": "markdown",
   "metadata": {},
   "source": [
    "### Dictionnaries"
   ]
  },
  {
   "cell_type": "code",
   "execution_count": 14,
   "metadata": {},
   "outputs": [
    {
     "name": "stdout",
     "output_type": "stream",
     "text": [
      "0\n",
      "a\n",
      "['a', 1, 'positive']\n"
     ]
    }
   ],
   "source": [
    "my_dictionnary = {\n",
    "    'key_0':0, \n",
    "    'key_1':'a', \n",
    "    'key_3':my_list\n",
    "}\n",
    "\n",
    "print(my_dictionnary['key_0'])\n",
    "print(my_dictionnary['key_1'])\n",
    "print(my_dictionnary['key_3'])"
   ]
  },
  {
   "cell_type": "markdown",
   "metadata": {},
   "source": [
    "One can iterate on dictionnary keys, values, or both"
   ]
  },
  {
   "cell_type": "code",
   "execution_count": 15,
   "metadata": {},
   "outputs": [
    {
     "name": "stdout",
     "output_type": "stream",
     "text": [
      "key_0\n",
      "key_1\n",
      "key_3\n"
     ]
    }
   ],
   "source": [
    "for key in my_dictionnary.keys():\n",
    "    print(key)"
   ]
  },
  {
   "cell_type": "code",
   "execution_count": 16,
   "metadata": {},
   "outputs": [
    {
     "name": "stdout",
     "output_type": "stream",
     "text": [
      "0\n",
      "a\n",
      "['a', 1, 'positive']\n"
     ]
    }
   ],
   "source": [
    "for value in my_dictionnary.values():\n",
    "    print(value)"
   ]
  },
  {
   "cell_type": "code",
   "execution_count": 17,
   "metadata": {},
   "outputs": [
    {
     "name": "stdout",
     "output_type": "stream",
     "text": [
      "key_0 0\n",
      "key_1 a\n",
      "key_3 ['a', 1, 'positive']\n"
     ]
    }
   ],
   "source": [
    "for key, value in my_dictionnary.items():\n",
    "    print(key, value)"
   ]
  },
  {
   "cell_type": "markdown",
   "metadata": {},
   "source": [
    "# <!> Dictionnaries are not ordered <!>\n",
    "## ---> The command my_dictionnary[0] will return an error, as 0 is not a registered key"
   ]
  }
 ],
 "metadata": {
  "kernelspec": {
   "display_name": "Python 3 (ipykernel)",
   "language": "python",
   "name": "python3"
  },
  "language_info": {
   "codemirror_mode": {
    "name": "ipython",
    "version": 3
   },
   "file_extension": ".py",
   "mimetype": "text/x-python",
   "name": "python",
   "nbconvert_exporter": "python",
   "pygments_lexer": "ipython3",
   "version": "3.8.8"
  },
  "vscode": {
   "interpreter": {
    "hash": "15e944eaa63e7a905e87581ef922e0b7b3b6e50e8beb9e6b7b953a48ac198a92"
   }
  }
 },
 "nbformat": 4,
 "nbformat_minor": 2
}
