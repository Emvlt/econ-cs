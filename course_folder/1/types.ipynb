{
 "cells": [
  {
   "cell_type": "code",
   "execution_count": null,
   "metadata": {},
   "outputs": [],
   "source": [
    "### String Types\n",
    "# Regular string\n",
    "string_0 = 'I am a string'\n",
    "# f-strings: useful to display variable values\n",
    "string_1 = f'Me too, and i can display {string_0}'\n",
    "\n",
    "print(string_0)\n",
    "print(string_1)"
   ]
  },
  {
   "cell_type": "code",
   "execution_count": null,
   "metadata": {},
   "outputs": [],
   "source": [
    "### Numeric types\n",
    "# Integer type\n",
    "a = 10\n",
    "# Float type \n",
    "b = 0.736\n",
    "# Complex type\n",
    "c = complex(a,b)"
   ]
  },
  {
   "cell_type": "code",
   "execution_count": null,
   "metadata": {},
   "outputs": [],
   "source": [
    "print(f'{a} + 5 is equal to : {a+5}')\n",
    "print(f'{a} - 5 is equal to : {a-5}')\n",
    "print(f'{a} / 5 is equal to : {a/5}')\n",
    "print(f'{a} * 5 is equal to : {a*5}')\n",
    "\n",
    "# euclidian integer division operators\n",
    "print(f'The floor division operation between {a} and 7 is {a//7}')\n",
    "print(f'The modulo between {a} and 7 is {a%7}')"
   ]
  },
  {
   "cell_type": "code",
   "execution_count": null,
   "metadata": {},
   "outputs": [],
   "source": [
    "## Logic\n",
    "#Python has built-in boolean expressions\n",
    "print(f'The assertion {a}<{b} is {a<b}')\n",
    "print(f'The assertion 0<{b}<{a} is {0<b<a}')\n",
    "\n",
    "if a < 0:\n",
    "    c = 'negative value'\n",
    "elif a == 0:\n",
    "    c = 'zero value'\n",
    "else:\n",
    "    c = 'positive value'\n",
    "print(c)\n"
   ]
  },
  {
   "cell_type": "code",
   "execution_count": null,
   "metadata": {},
   "outputs": [],
   "source": [
    "## Lists\n",
    "# A list is an iterable type of object\n",
    "my_list = ['a',1,c,]\n",
    "print(my_list[0])\n",
    "print(my_list[1])\n",
    "print(my_list[2])\n",
    "\n",
    "# <!> Python uses 0 ordering <!>\n",
    "# a list has a length\n",
    "print(len(my_list))"
   ]
  },
  {
   "cell_type": "code",
   "execution_count": null,
   "metadata": {},
   "outputs": [],
   "source": [
    "## Dictionnaries\n",
    "my_dictionnary = {'key_0':0, 'key_1':'a', 'key_3':my_list}\n",
    "\n",
    "print(my_dictionnary['key_0'])\n",
    "print(my_dictionnary['key_1'])\n",
    "print(my_dictionnary['key_3'])"
   ]
  },
  {
   "cell_type": "code",
   "execution_count": null,
   "metadata": {},
   "outputs": [],
   "source": [
    "# <!> Dictionnaries are not ordered <!>\n",
    "print(my_dictionnary[0])"
   ]
  },
  {
   "cell_type": "code",
   "execution_count": null,
   "metadata": {},
   "outputs": [],
   "source": []
  }
 ],
 "metadata": {
  "kernelspec": {
   "display_name": "Python 3.8.13 ('scrapeEnv')",
   "language": "python",
   "name": "python3"
  },
  "language_info": {
   "name": "python",
   "version": "3.8.13"
  },
  "orig_nbformat": 4,
  "vscode": {
   "interpreter": {
    "hash": "15e944eaa63e7a905e87581ef922e0b7b3b6e50e8beb9e6b7b953a48ac198a92"
   }
  }
 },
 "nbformat": 4,
 "nbformat_minor": 2
}
