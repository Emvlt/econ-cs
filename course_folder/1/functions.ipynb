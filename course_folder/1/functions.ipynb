{
 "cells": [
  {
   "cell_type": "markdown",
   "metadata": {},
   "source": [
    "## Python allows to build methods and functions, as well as coming with some shipped"
   ]
  },
  {
   "cell_type": "markdown",
   "metadata": {},
   "source": [
    "a function definition\n",
    "- begins using the keyword def;\n",
    "- has its arguments (if there are any) in parenthesis\n",
    "- ends with semi-column\n",
    "\n",
    "def function_name(function_variables):\n",
    "- function_body (indented block)    \n"
   ]
  },
  {
   "cell_type": "code",
   "execution_count": 1,
   "metadata": {},
   "outputs": [],
   "source": [
    "def foo(argument_0):\n",
    "    return argument_0+1\n",
    "\n",
    "def bar():\n",
    "    print(\"This function does not do much\")"
   ]
  },
  {
   "cell_type": "code",
   "execution_count": 2,
   "metadata": {},
   "outputs": [
    {
     "name": "stdout",
     "output_type": "stream",
     "text": [
      "2\n",
      "This function does not do much\n"
     ]
    }
   ],
   "source": [
    "a = foo(1)\n",
    "\n",
    "print(a)\n",
    "\n",
    "bar()\n"
   ]
  },
  {
   "cell_type": "markdown",
   "metadata": {},
   "source": [
    "It is not required to specify the types of the variables, nor the return type of a function, although it is ***really*** helpful"
   ]
  },
  {
   "cell_type": "code",
   "execution_count": null,
   "metadata": {},
   "outputs": [],
   "source": [
    "from typing import List\n",
    "\n",
    "def odd_looking_function(a:int) -> List:\n",
    "    return [i for i in range(a)]\n"
   ]
  },
  {
   "cell_type": "code",
   "execution_count": 3,
   "metadata": {},
   "outputs": [],
   "source": [
    "def foo(argument_0:int) -> int:\n",
    "    return argument_0+1\n",
    "def bar() -> None :\n",
    "    print('This does not do much')"
   ]
  },
  {
   "cell_type": "code",
   "execution_count": 3,
   "metadata": {},
   "outputs": [
    {
     "name": "stdout",
     "output_type": "stream",
     "text": [
      "This function does not do much\n"
     ]
    }
   ],
   "source": [
    "a = foo(10)\n",
    "\n",
    "b = bar()"
   ]
  },
  {
   "cell_type": "markdown",
   "metadata": {},
   "source": [
    "A method is a function that does not exist without an object: \n",
    "- for dictionnaries, the method .keys() does not exist without a dict, or on an object with another type\n",
    "\n",
    "An object is yet another concept that we are not covering in this session."
   ]
  },
  {
   "cell_type": "code",
   "execution_count": 6,
   "metadata": {},
   "outputs": [
    {
     "ename": "NameError",
     "evalue": "name 'keys' is not defined",
     "output_type": "error",
     "traceback": [
      "\u001b[1;31m---------------------------------------------------------------------------\u001b[0m",
      "\u001b[1;31mNameError\u001b[0m                                 Traceback (most recent call last)",
      "Input \u001b[1;32mIn [6]\u001b[0m, in \u001b[0;36m<cell line: 1>\u001b[1;34m()\u001b[0m\n\u001b[1;32m----> 1\u001b[0m \u001b[38;5;28mprint\u001b[39m(\u001b[43mkeys\u001b[49m())\n",
      "\u001b[1;31mNameError\u001b[0m: name 'keys' is not defined"
     ]
    }
   ],
   "source": [
    "print(keys())"
   ]
  },
  {
   "cell_type": "code",
   "execution_count": 5,
   "metadata": {},
   "outputs": [
    {
     "name": "stdout",
     "output_type": "stream",
     "text": [
      "dict_keys(['a'])\n"
     ]
    }
   ],
   "source": [
    "print({'a':0}.keys())"
   ]
  },
  {
   "cell_type": "code",
   "execution_count": null,
   "metadata": {},
   "outputs": [],
   "source": []
  }
 ],
 "metadata": {
  "kernelspec": {
   "display_name": "Python 3 (ipykernel)",
   "language": "python",
   "name": "python3"
  },
  "language_info": {
   "codemirror_mode": {
    "name": "ipython",
    "version": 3
   },
   "file_extension": ".py",
   "mimetype": "text/x-python",
   "name": "python",
   "nbconvert_exporter": "python",
   "pygments_lexer": "ipython3",
   "version": "3.8.8"
  },
  "vscode": {
   "interpreter": {
    "hash": "15e944eaa63e7a905e87581ef922e0b7b3b6e50e8beb9e6b7b953a48ac198a92"
   }
  }
 },
 "nbformat": 4,
 "nbformat_minor": 2
}
